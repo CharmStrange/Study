{
  "nbformat": 4,
  "nbformat_minor": 0,
  "metadata": {
    "colab": {
      "provenance": []
    },
    "kernelspec": {
      "name": "python3",
      "display_name": "Python 3"
    },
    "language_info": {
      "name": "python"
    }
  },
  "cells": [
    {
      "cell_type": "markdown",
      "source": [
        "# K-최근접 이웃(KNN)\n",
        "KNN은 널리 쓰이는 지도 학습 머신 러닝 모델이며 특정 샘플 주위의 샘플들의 클래스를 고려하여 특정 샘플의 클래스를 예측한다.\n",
        "장점으로는 단순한 알고리즘, 사전 학습 및 준비 과정이 필요하지 않다는 점이 있다."
      ],
      "metadata": {
        "id": "9N8D5hSjyOfS"
      }
    },
    {
      "cell_type": "code",
      "execution_count": 3,
      "metadata": {
        "colab": {
          "base_uri": "https://localhost:8080/"
        },
        "id": "PxKOEQOayMT-",
        "outputId": "1e9531bd-70bb-4895-e8aa-62712547335f"
      },
      "outputs": [
        {
          "output_type": "execute_result",
          "data": {
            "text/plain": [
              "array([[[1.03800476, 0.55861082, 1.10378283, 1.18556721],\n",
              "        [0.79566902, 0.32841405, 0.76275827, 1.05393502]]])"
            ]
          },
          "metadata": {},
          "execution_count": 3
        }
      ],
      "source": [
        "# 특정 샘플에서 가장 가까운 K개의 샘플(이웃) 찾기\n",
        "# 가장 간단한 예시 코드\n",
        "\n",
        "from sklearn import datasets\n",
        "from sklearn.neighbors import NearestNeighbors\n",
        "from sklearn.preprocessing import StandardScaler\n",
        "\n",
        "# 데이터셋 가져오기\n",
        "iris = datasets.load_iris()\n",
        "features = iris.data\n",
        "\n",
        "# 표준화 객체 만들기\n",
        "standardizer = StandardScaler()\n",
        "\n",
        "# 특성 표준화하기\n",
        "features_standardized = standardizer.fit_transform(features)\n",
        "\n",
        "# K=2인 최근접 이웃 모델 만들기\n",
        "nearest_neighbors = NearestNeighbors(n_neighbors=2).fit(features_standardized)\n",
        "\n",
        "# 새로운 샘플을 만들기\n",
        "new_observation = [1, 1, 1, 1]\n",
        "\n",
        "# 이 샘플과 가장 가까운 이웃의 인덱스와 거리를 찾기\n",
        "distance, indices = nearest_neighbors.kneighbors( [new_observation] )\n",
        "\n",
        "# 최근접 이웃을 확인\n",
        "features_standardized[indices]"
      ]
    },
    {
      "cell_type": "code",
      "source": [
        "from sklearn.model_selection import train_test_split\n",
        "from sklearn.neighbors import KNeighborsClassifier\n",
        "import pandas as pd\n",
        "\n",
        "iris_df = pd.DataFrame(iris.data, columns=iris.feature_names)\n",
        "iris_df['target'] = pd.Series(iris.target)\n",
        "\n",
        "X = iris_df.iloc[:, :4]\n",
        "y = iris_df.iloc[:, -1]\n",
        "\n",
        "def iris_KNN(X, y, K):\n",
        "    X_train, X_test, y_train, y_test = train_test_split(X, y, test_size=0.3)\n",
        "    KNN = KNeighborsClassifier(n_neighbors=K)\n",
        "    KNN.fit(X_train, y_train)\n",
        "    y_pred = KNN.predict(X_test)\n",
        "    return metrics.accuracy_score(y_test, y_pred)\n",
        "\n",
        "K = 3\n",
        "scores = iris_KNN(X, y, K)\n",
        "print( 'n_neighbors가 {0:d}일때 정확도 : {1:.3f}'.format(K, scores) )"
      ],
      "metadata": {
        "colab": {
          "base_uri": "https://localhost:8080/"
        },
        "id": "FHHKTMkCcfpg",
        "outputId": "a7c679d0-e35e-428f-9fd8-2acac77c41c3"
      },
      "execution_count": 16,
      "outputs": [
        {
          "output_type": "stream",
          "name": "stdout",
          "text": [
            "n_neighbors가 3일때 정확도 : 0.978\n"
          ]
        }
      ]
    },
    {
      "cell_type": "code",
      "source": [
        "from sklearn import metrics\n",
        "\n",
        "KNN = KNeighborsClassifier(n_neighbors=K)\n",
        "KNN.fit(iris.data, iris.target)\n",
        "classes = { 0:'setosa', 1:'versicolor', 2:'virginica' }\n",
        "\n",
        "# 새로운 데이터\n",
        "X = [ [4,2,1.3,0.4], [4,3,3.2,2.2] ]\n",
        "y = KNN.predict(X)\n",
        "\n",
        "print( '{}특성을 가지는 품종 : {}'.format( X[0], classes[y[0]] ) )\n",
        "print( '{}특성을 가지는 품종 : {}'.format( X[1], classes[y[1]] ) )\n",
        "\n",
        "y_pred_all = KNN.predict(iris.data)\n",
        "scores = metrics.accuracy_score(iris.target, y_pred_all)\n",
        "print( 'n_neighbors가 {0:d}일때 정확도 : {1:.3f}'.format(K, scores) )"
      ],
      "metadata": {
        "colab": {
          "base_uri": "https://localhost:8080/"
        },
        "id": "bQotmF89obuI",
        "outputId": "2e282315-34d7-420d-93e9-390ebfaa792a"
      },
      "execution_count": 18,
      "outputs": [
        {
          "output_type": "stream",
          "name": "stdout",
          "text": [
            "[4, 2, 1.3, 0.4]특성을 가지는 품종 : setosa\n",
            "[4, 3, 3.2, 2.2]특성을 가지는 품종 : versicolor\n",
            "n_neighbors가 3일때 정확도 : 0.960\n"
          ]
        }
      ]
    },
    {
      "cell_type": "code",
      "source": [
        "import matplotlib.pyplot as plt\n",
        "from sklearn.metrics import confusion_matrix\n",
        "\n",
        "plt.hist2d(iris.target, y_pred_all, bins=(3,3), cmap=plt.cm.jet)\n",
        "conf_mat = confusion_matrix(iris.target, y_pred_all)\n",
        "conf_mat"
      ],
      "metadata": {
        "colab": {
          "base_uri": "https://localhost:8080/",
          "height": 491
        },
        "id": "YqUeFb1ZyLtQ",
        "outputId": "d6057fb8-d9a9-4e0e-feaf-59e99fe6149a"
      },
      "execution_count": 20,
      "outputs": [
        {
          "output_type": "execute_result",
          "data": {
            "text/plain": [
              "array([[50,  0,  0],\n",
              "       [ 0, 47,  3],\n",
              "       [ 0,  3, 47]])"
            ]
          },
          "metadata": {},
          "execution_count": 20
        },
        {
          "output_type": "display_data",
          "data": {
            "text/plain": [
              "<Figure size 640x480 with 1 Axes>"
            ],
            "image/png": "[encoded data removed]"
          },
          "metadata": {}
        }
      ]
    }
  ]
}
